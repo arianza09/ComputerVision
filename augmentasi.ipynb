{
  "nbformat": 4,
  "nbformat_minor": 0,
  "metadata": {
    "colab": {
      "name": "augmentasi.ipynb",
      "provenance": [],
      "collapsed_sections": [],
      "authorship_tag": "ABX9TyM+XQu/3wo5+aBbejZgOJnB",
      "include_colab_link": true
    },
    "kernelspec": {
      "name": "python3",
      "display_name": "Python 3"
    },
    "language_info": {
      "name": "python"
    }
  },
  "cells": [
    {
      "cell_type": "markdown",
      "metadata": {
        "id": "view-in-github",
        "colab_type": "text"
      },
      "source": [
        "<a href=\"https://colab.research.google.com/github/arianza1210/ComputerVision/blob/main/augmentasi.ipynb\" target=\"_parent\"><img src=\"https://colab.research.google.com/assets/colab-badge.svg\" alt=\"Open In Colab\"/></a>"
      ]
    },
    {
      "cell_type": "markdown",
      "source": [
        "**AUGMENTASI ROTATE**"
      ],
      "metadata": {
        "id": "OOJVDo6ZoRT3"
      }
    },
    {
      "cell_type": "code",
      "source": [
        "from google.colab import drive\n",
        "drive.mount('/content/drive')\n"
      ],
      "metadata": {
        "colab": {
          "base_uri": "https://localhost:8080/"
        },
        "id": "Rvirbdh9jJjE",
        "outputId": "f7cc77af-b6f8-4bb9-dc2e-7083b7e3a77e"
      },
      "execution_count": null,
      "outputs": [
        {
          "output_type": "stream",
          "name": "stdout",
          "text": [
            "Mounted at /content/drive\n"
          ]
        }
      ]
    },
    {
      "cell_type": "code",
      "source": [
        "import tensorflow as tf\n",
        "from keras.preprocessing.image import ImageDataGenerator\n",
        "import numpy as np"
      ],
      "metadata": {
        "id": "pDLZifktpHdd"
      },
      "execution_count": null,
      "outputs": []
    },
    {
      "cell_type": "code",
      "source": [
        "#datagen = ImageDataGenerator(rotation_range=90)\n",
        "datagen = ImageDataGenerator(\n",
        "                                 rescale=1./255)"
      ],
      "metadata": {
        "id": "-GJpEi2wpsjk"
      },
      "execution_count": null,
      "outputs": []
    },
    {
      "cell_type": "code",
      "source": [
        "i=0\n",
        "for batch in datagen.flow_from_directory(directory='/content/drive/MyDrive/Dataset_CNN/Dataset_Aug/bahan',\n",
        "                                         batch_size = 256,\n",
        "                                         color_mode=\"rgb\",\n",
        "                                         save_to_dir='/content/drive/MyDrive/Dataset_CNN/Dataset_Aug/bahan',\n",
        "                                         save_prefix='rotate_range',\n",
        "                                         save_format='JPG'):\n",
        "  i+=1\n",
        "  if i > 0:\n",
        "   break \n",
        "\n",
        "\n",
        "   \n"
      ],
      "metadata": {
        "colab": {
          "base_uri": "https://localhost:8080/"
        },
        "id": "RQeOd8Xfp0rc",
        "outputId": "79c03a19-0fca-4b5b-ec42-0c4e9bd8cb80"
      },
      "execution_count": null,
      "outputs": [
        {
          "output_type": "stream",
          "name": "stdout",
          "text": [
            "Found 1 images belonging to 1 classes.\n"
          ]
        }
      ]
    },
    {
      "cell_type": "code",
      "source": [
        "i=0\n",
        "for batch in datagen.flow_from_directory(directory='/content/drive/MyDrive/Dataset_CNN/Dataset_Aug/kupu_batik_cap',\n",
        "                                         batch_size = 256,\n",
        "                                         target_size=(224,224),\n",
        "                                         color_mode=\"rgb\",\n",
        "                                         save_to_dir='/content/drive/MyDrive/Dataset_CNN/Augmentasi/kupu_kupu/rotate/kupu_batik_cap',\n",
        "                                         save_prefix='aug',\n",
        "                                         save_format='JPG'):\n",
        "  i+=1\n",
        "  if i > 0:\n",
        "   break \n"
      ],
      "metadata": {
        "colab": {
          "base_uri": "https://localhost:8080/"
        },
        "id": "oi5y3sFdDXS0",
        "outputId": "4bd0817d-6a98-4a09-bcb6-3bec7f9a6f1b"
      },
      "execution_count": null,
      "outputs": [
        {
          "output_type": "stream",
          "name": "stdout",
          "text": [
            "Found 100 images belonging to 1 classes.\n"
          ]
        }
      ]
    },
    {
      "cell_type": "code",
      "source": [
        "i=0\n",
        "for batch in datagen.flow_from_directory(directory='/content/drive/MyDrive/Dataset_CNN/Dataset_Aug/kupu_hijau_biru',\n",
        "                                         batch_size = 256,\n",
        "                                         target_size=(224,224),\n",
        "                                         color_mode=\"rgb\",\n",
        "                                         save_to_dir='/content/drive/MyDrive/Dataset_CNN/Augmentasi/kupu_kupu/rotate/kupu_hijau_biru',\n",
        "                                         save_prefix='aug',\n",
        "                                         save_format='JPG'):\n",
        "  i+=1\n",
        "  if i > 0:\n",
        "   break \n"
      ],
      "metadata": {
        "colab": {
          "base_uri": "https://localhost:8080/"
        },
        "id": "72I0PeUED9ar",
        "outputId": "887ce3e1-2214-4b39-f33f-8119d02b64ee"
      },
      "execution_count": null,
      "outputs": [
        {
          "output_type": "stream",
          "name": "stdout",
          "text": [
            "Found 100 images belonging to 1 classes.\n"
          ]
        }
      ]
    },
    {
      "cell_type": "code",
      "source": [
        "i=0\n",
        "for batch in datagen.flow_from_directory(directory='/content/drive/MyDrive/Dataset_CNN/Dataset_Aug/kupu_jarak',\n",
        "                                         batch_size = 256,\n",
        "                                         target_size=(224,224),\n",
        "                                         color_mode=\"rgb\",\n",
        "                                         save_to_dir='/content/drive/MyDrive/Dataset_CNN/Augmentasi/kupu_kupu/flip/kupu_jarak',\n",
        "                                         save_prefix='aug',\n",
        "                                         save_format='JPG'):\n",
        "  i+=1\n",
        "  if i > 0:\n",
        "   break \n"
      ],
      "metadata": {
        "colab": {
          "base_uri": "https://localhost:8080/"
        },
        "id": "lrOH3AaWrAG0",
        "outputId": "74bd583f-7bf4-49b9-b3d3-3f61a6a6d819"
      },
      "execution_count": null,
      "outputs": [
        {
          "output_type": "stream",
          "name": "stdout",
          "text": [
            "Found 100 images belonging to 1 classes.\n"
          ]
        }
      ]
    },
    {
      "cell_type": "code",
      "source": [
        "i=0\n",
        "for batch in datagen.flow_from_directory(directory='/content/drive/MyDrive/Dataset_CNN/Dataset_Aug/kupu_jojo',\n",
        "                                         batch_size = 256,\n",
        "                                         target_size=(224,224),\n",
        "                                         color_mode=\"rgb\",\n",
        "                                         save_to_dir='/content/drive/MyDrive/Dataset_CNN/Augmentasi/kupu_kupu/flip/kupu_jojo',\n",
        "                                         save_prefix='aug',\n",
        "                                         save_format='JPG'):\n",
        "  i+=1\n",
        "  if i > 0:\n",
        "   break \n"
      ],
      "metadata": {
        "colab": {
          "base_uri": "https://localhost:8080/"
        },
        "id": "uhvlIlJsEc8i",
        "outputId": "9be8841f-4f2c-4987-cca0-bae224211f16"
      },
      "execution_count": null,
      "outputs": [
        {
          "output_type": "stream",
          "name": "stdout",
          "text": [
            "Found 100 images belonging to 1 classes.\n"
          ]
        }
      ]
    },
    {
      "cell_type": "code",
      "source": [
        "i=0\n",
        "for batch in datagen.flow_from_directory(directory='/content/drive/MyDrive/Dataset_CNN/Dataset_Aug/kupu_pantat_merah',\n",
        "                                         batch_size = 256,\n",
        "                                         target_size=(224,224),\n",
        "                                         color_mode=\"rgb\",\n",
        "                                         save_to_dir='/content/drive/MyDrive/Dataset_CNN/Augmentasi/kupu_kupu/flip/kupu_pantat_merah',\n",
        "                                         save_prefix='aug',\n",
        "                                         save_format='JPG'):\n",
        "  i+=1\n",
        "  if i > 0:\n",
        "   break "
      ],
      "metadata": {
        "colab": {
          "base_uri": "https://localhost:8080/"
        },
        "id": "twa1PayPEmys",
        "outputId": "71b9ec12-9f6a-4823-d992-3c88c83647fa"
      },
      "execution_count": null,
      "outputs": [
        {
          "output_type": "stream",
          "name": "stdout",
          "text": [
            "Found 100 images belonging to 1 classes.\n"
          ]
        }
      ]
    },
    {
      "cell_type": "code",
      "source": [
        "i=0\n",
        "for batch in datagen.flow_from_directory(directory='/content/drive/MyDrive/Dataset_CNN/Dataset_Aug/kupu_raja_helena',\n",
        "                                         batch_size = 256,\n",
        "                                         target_size=(224,224),\n",
        "                                         color_mode=\"rgb\",\n",
        "                                         save_to_dir='/content/drive/MyDrive/Dataset_CNN/Augmentasi/kupu_kupu/flip/kupu_raja_helena',\n",
        "                                         save_prefix='aug',\n",
        "                                         save_format='JPG'):\n",
        "  i+=1\n",
        "  if i > 0:\n",
        "   break "
      ],
      "metadata": {
        "colab": {
          "base_uri": "https://localhost:8080/"
        },
        "id": "2kUIhlKnF3kK",
        "outputId": "051ea7c2-2666-4580-c883-0d3062de6edb"
      },
      "execution_count": null,
      "outputs": [
        {
          "output_type": "stream",
          "name": "stdout",
          "text": [
            "Found 100 images belonging to 1 classes.\n"
          ]
        }
      ]
    },
    {
      "cell_type": "code",
      "source": [
        "i=0\n",
        "for batch in datagen.flow_from_directory(directory='/content/drive/MyDrive/Dataset_CNN/Dataset_Aug/kupu_raja_limau',\n",
        "                                         batch_size = 256,\n",
        "                                         target_size=(224,224),\n",
        "                                         color_mode=\"rgb\",\n",
        "                                         save_to_dir='/content/drive/MyDrive/Dataset_CNN/Augmentasi/kupu_kupu/rotate/kupu_raja_limau',\n",
        "                                         save_prefix='aug',\n",
        "                                         save_format='JPG'):\n",
        "  i+=1\n",
        "  if i > 0:\n",
        "   break "
      ],
      "metadata": {
        "colab": {
          "base_uri": "https://localhost:8080/"
        },
        "id": "vN0TkZUlGCmQ",
        "outputId": "7d81d31e-5239-47af-e412-10f16413a7f2"
      },
      "execution_count": null,
      "outputs": [
        {
          "output_type": "stream",
          "name": "stdout",
          "text": [
            "Found 100 images belonging to 1 classes.\n"
          ]
        }
      ]
    }
  ]
}